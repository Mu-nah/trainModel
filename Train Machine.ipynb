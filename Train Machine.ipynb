{
  "cells": [
    {
      "cell_type": "markdown",
      "id": "6d1109a5",
      "metadata": {},
      "source": [
        "#Fitting a Polynomial Curve"
      ]
    },
    {
      "cell_type": "code",
      "execution_count": null,
      "id": "0a2d409a",
      "metadata": {
        "scrolled": true
      },
      "outputs": [],
      "source": [
        "import pandas\n",
        "!pip install statsmodels\n",
        "!wget https://raw.githubusercontent.com/MicrosoftDocs/mslearn-introduction-to-machine-learning/main/graphing.py\n",
        "!wget https://raw.githubusercontent.com/MicrosoftDocs/mslearn-introduction-to-machine-learning/main/Data/doggy-illness.csv\n",
        "\n",
        "#Import the data from the .csv file\n",
        "dataset = pandas.read_csv('doggy-illness.csv', delimiter=\"\\t\")\n",
        "\n",
        "#Let's have a look at the data\n",
        "dataset"
      ]
    },
    {
      "cell_type": "code",
      "execution_count": null,
      "id": "76c68026",
      "metadata": {},
      "outputs": [],
      "source": [
        "import statsmodels.formula.api as smf\n",
        "import graphing # custom graphing code. See our GitHub repo for details\n",
        "\n",
        "# Perform linear regression. This method takes care of\n",
        "# the entire fitting procedure for us.\n",
        "simple_formula = \"core_temperature ~ protein_content_of_last_meal\"\n",
        "simple_model = smf.ols(formula = simple_formula, data = dataset).fit()\n",
        "\n",
        "# Show a graph of the result\n",
        "graphing.scatter_2D(dataset, label_x=\"protein_content_of_last_meal\", \n",
        "                             label_y=\"core_temperature\",\n",
        "                             trendline=lambda x: simple_model.params[1] * x + simple_model.params[0])\n"
      ]
    },
    {
      "cell_type": "code",
      "execution_count": null,
      "id": "90292f2f",
      "metadata": {},
      "outputs": [],
      "source": [
        "print(\"R-squared:\", simple_model.rsquared)"
      ]
    },
    {
      "cell_type": "code",
      "execution_count": null,
      "id": "08dc5d87",
      "metadata": {},
      "outputs": [],
      "source": [
        "# Perform polynomial regression. This method takes care of\n",
        "# the entire fitting procedure for us.\n",
        "polynomial_formula = \"core_temperature ~ protein_content_of_last_meal + I(protein_content_of_last_meal**2)\"\n",
        "polynomial_model = smf.ols(formula = polynomial_formula, data = dataset).fit()\n",
        "\n",
        "# Show a graph of the result\n",
        "graphing.scatter_2D(dataset, label_x=\"protein_content_of_last_meal\", \n",
        "                             label_y=\"core_temperature\",\n",
        "                             # Our trendline is the equation for the polynomial\n",
        "                             trendline=lambda x: polynomial_model.params[2] * x**2 + polynomial_model.params[1] * x + polynomial_model.params[0])\n"
      ]
    },
    {
      "cell_type": "code",
      "execution_count": null,
      "id": "e0d5e4db",
      "metadata": {},
      "outputs": [],
      "source": [
        "print(\"R-squared:\", polynomial_model.rsquared)"
      ]
    },
    {
      "cell_type": "code",
      "execution_count": null,
      "id": "5a9da888",
      "metadata": {},
      "outputs": [],
      "source": [
        "import numpy as np\n",
        "fig = graphing.surface(\n",
        "    x_values=np.array([min(dataset.protein_content_of_last_meal), max(dataset.protein_content_of_last_meal)]),\n",
        "    y_values=np.array([min(dataset.protein_content_of_last_meal)**2, max(dataset.protein_content_of_last_meal)**2]),\n",
        "    calc_z=lambda x,y: polynomial_model.params[0] + (polynomial_model.params[1] * x) + (polynomial_model.params[2] * y),\n",
        "    axis_title_x=\"x\",\n",
        "    axis_title_y=\"x2\",\n",
        "    axis_title_z=\"Core temperature\"\n",
        ")\n",
        "# Add our datapoints to it and display\n",
        "fig.add_scatter3d(x=dataset.protein_content_of_last_meal, y=dataset.protein_content_of_last_meal**2, z=dataset.core_temperature, mode='markers')\n",
        "fig.show()"
      ]
    },
    {
      "cell_type": "code",
      "execution_count": null,
      "id": "881d3890",
      "metadata": {},
      "outputs": [],
      "source": [
        "# Show an extrapolated graph of the linear model\n",
        "graphing.scatter_2D(dataset, label_x=\"protein_content_of_last_meal\", \n",
        "                             label_y=\"core_temperature\",\n",
        "                             # We extrapolate over the following range\n",
        "                             x_range = [0,100],\n",
        "                             trendline=lambda x: simple_model.params[1] * x + simple_model.params[0])\n"
      ]
    },
    {
      "cell_type": "code",
      "execution_count": null,
      "id": "d264380a",
      "metadata": {},
      "outputs": [],
      "source": [
        "# Show an extrapolated graph of the polynomial model\n",
        "graphing.scatter_2D(dataset, label_x=\"protein_content_of_last_meal\", \n",
        "                             label_y=\"core_temperature\",\n",
        "                             # We extrapolate over the following range\n",
        "                             x_range = [0,100],\n",
        "                             trendline=lambda x: polynomial_model.params[2] * x**2 + polynomial_model.params[1] * x + polynomial_model.params[0])\n"
      ]
    }
  ],
  "metadata": {
    "kernel_info": {
      "name": "conda-env-azureml_py38-py"
    },
    "kernelspec": {
      "display_name": "py38_default",
      "language": "python",
      "name": "conda-env-azureml_py38-py"
    },
    "language_info": {
      "codemirror_mode": {
        "name": "ipython",
        "version": 3
      },
      "file_extension": ".py",
      "mimetype": "text/x-python",
      "name": "python",
      "nbconvert_exporter": "python",
      "pygments_lexer": "ipython3",
      "version": "3.7.9"
    },
    "nteract": {
      "version": "nteract-front-end@1.0.0"
    },
    "vscode": {
      "interpreter": {
        "hash": "2a35a5d7a1695c145f6d485f5528d9f0e062df43578e4fcb0dcb8fc15dd48b38"
      }
    }
  },
  "nbformat": 4,
  "nbformat_minor": 5
}
